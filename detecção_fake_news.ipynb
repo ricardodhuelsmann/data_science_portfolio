{
  "nbformat": 4,
  "nbformat_minor": 0,
  "metadata": {
    "colab": {
      "name": "detecção_fake_news.ipynb",
      "provenance": [],
      "collapsed_sections": [],
      "authorship_tag": "ABX9TyMCeKWVTYRq8VTQfGgqh6wv",
      "include_colab_link": true
    },
    "kernelspec": {
      "name": "python3",
      "display_name": "Python 3"
    },
    "language_info": {
      "name": "python"
    }
  },
  "cells": [
    {
      "cell_type": "markdown",
      "metadata": {
        "id": "view-in-github",
        "colab_type": "text"
      },
      "source": [
        "<a href=\"https://colab.research.google.com/github/ricardodhuelsmann/data_science_portfolio/blob/main/detec%C3%A7%C3%A3o_fake_news.ipynb\" target=\"_parent\"><img src=\"https://colab.research.google.com/assets/colab-badge.svg\" alt=\"Open In Colab\"/></a>"
      ]
    },
    {
      "cell_type": "markdown",
      "source": [
        "#Introdução"
      ],
      "metadata": {
        "id": "aYcmLMtdnEKO"
      }
    },
    {
      "cell_type": "markdown",
      "source": [
        "##Sobre o projeto de detecção de notícias falsas com Python\n",
        "\n",
        "Original = https://data-flair.training/blogs/advanced-python-project-detecting-fake-news/\n",
        "\n",
        "Este projeto visa desenvolver modelo preditivo de detecção de notícias, entre verdadeira ou falsa. Faz-se uso da biblioteca *sklearn*, mais especificamente o *TfidfVectorizer*. Em seguida é utilizado *PassiveAggressive Classifier* e ajustamos o modelo. Ao final, a pontuação com base em valores de teste é apresentada, indicando a qualidade do modelo.\n",
        "\n",
        "Info = TF-IDF é *term frequency–inverse document frequency*, que significa frequência do termo–inverso da frequência nos documentos\n",
        "\n",
        "\n",
        "O conjunto de dados de notícias falsas usado, consiste em um arquivo *.csv*, na forma de 7796×4. A primeira coluna é a notícia, a segunda e a terceira são o título e o texto, e a última coluna é o rótulo (REAL ou FAKE).\n"
      ],
      "metadata": {
        "id": "eY2OgZzEgyeJ"
      }
    },
    {
      "cell_type": "markdown",
      "source": [
        "Inicialmente, importa-se as bibliotecas e módulos necessários\n",
        "\n"
      ],
      "metadata": {
        "id": "TJJR8nKseeKj"
      }
    },
    {
      "cell_type": "code",
      "execution_count": 69,
      "metadata": {
        "id": "zY2VBbrQd3E_"
      },
      "outputs": [],
      "source": [
        "import numpy as np\n",
        "import pandas as pd\n",
        "import itertools\n",
        "from sklearn.model_selection import train_test_split\n",
        "from sklearn.feature_extraction.text import TfidfVectorizer\n",
        "from sklearn.linear_model import PassiveAggressiveClassifier\n",
        "from sklearn.metrics import accuracy_score, confusion_matrix\n",
        "import seaborn as sns"
      ]
    },
    {
      "cell_type": "markdown",
      "source": [
        "Em seguida, faz-se upload dos dados a partir de arquivo externo, para um *DataFrame* do *pandas*"
      ],
      "metadata": {
        "id": "43JceZKJejSl"
      }
    },
    {
      "cell_type": "code",
      "source": [
        "dados_base = pd.read_csv('news.csv')"
      ],
      "metadata": {
        "id": "7aHClAznewJ_"
      },
      "execution_count": 57,
      "outputs": []
    },
    {
      "cell_type": "code",
      "source": [
        "#obter a forma do dataframe\n",
        "dados_base.shape"
      ],
      "metadata": {
        "colab": {
          "base_uri": "https://localhost:8080/"
        },
        "id": "yg3aT97YfElX",
        "outputId": "266497b2-bf7c-406a-f7d1-4ea228e0cea5"
      },
      "execution_count": 58,
      "outputs": [
        {
          "output_type": "execute_result",
          "data": {
            "text/plain": [
              "(6335, 4)"
            ]
          },
          "metadata": {},
          "execution_count": 58
        }
      ]
    },
    {
      "cell_type": "code",
      "source": [
        "#Visualizar os primeiros dados do conjunto\n",
        "dados_base.head()"
      ],
      "metadata": {
        "colab": {
          "base_uri": "https://localhost:8080/",
          "height": 206
        },
        "id": "yoDLrr-4fHBV",
        "outputId": "d2ff79e1-d482-4fd2-a537-4e64d5524949"
      },
      "execution_count": 59,
      "outputs": [
        {
          "output_type": "execute_result",
          "data": {
            "text/html": [
              "\n",
              "  <div id=\"df-810b41a3-e5f5-41e8-9921-612944da6c52\">\n",
              "    <div class=\"colab-df-container\">\n",
              "      <div>\n",
              "<style scoped>\n",
              "    .dataframe tbody tr th:only-of-type {\n",
              "        vertical-align: middle;\n",
              "    }\n",
              "\n",
              "    .dataframe tbody tr th {\n",
              "        vertical-align: top;\n",
              "    }\n",
              "\n",
              "    .dataframe thead th {\n",
              "        text-align: right;\n",
              "    }\n",
              "</style>\n",
              "<table border=\"1\" class=\"dataframe\">\n",
              "  <thead>\n",
              "    <tr style=\"text-align: right;\">\n",
              "      <th></th>\n",
              "      <th>Unnamed: 0</th>\n",
              "      <th>title</th>\n",
              "      <th>text</th>\n",
              "      <th>label</th>\n",
              "    </tr>\n",
              "  </thead>\n",
              "  <tbody>\n",
              "    <tr>\n",
              "      <th>0</th>\n",
              "      <td>8476</td>\n",
              "      <td>You Can Smell Hillary’s Fear</td>\n",
              "      <td>Daniel Greenfield, a Shillman Journalism Fello...</td>\n",
              "      <td>FAKE</td>\n",
              "    </tr>\n",
              "    <tr>\n",
              "      <th>1</th>\n",
              "      <td>10294</td>\n",
              "      <td>Watch The Exact Moment Paul Ryan Committed Pol...</td>\n",
              "      <td>Google Pinterest Digg Linkedin Reddit Stumbleu...</td>\n",
              "      <td>FAKE</td>\n",
              "    </tr>\n",
              "    <tr>\n",
              "      <th>2</th>\n",
              "      <td>3608</td>\n",
              "      <td>Kerry to go to Paris in gesture of sympathy</td>\n",
              "      <td>U.S. Secretary of State John F. Kerry said Mon...</td>\n",
              "      <td>REAL</td>\n",
              "    </tr>\n",
              "    <tr>\n",
              "      <th>3</th>\n",
              "      <td>10142</td>\n",
              "      <td>Bernie supporters on Twitter erupt in anger ag...</td>\n",
              "      <td>— Kaydee King (@KaydeeKing) November 9, 2016 T...</td>\n",
              "      <td>FAKE</td>\n",
              "    </tr>\n",
              "    <tr>\n",
              "      <th>4</th>\n",
              "      <td>875</td>\n",
              "      <td>The Battle of New York: Why This Primary Matters</td>\n",
              "      <td>It's primary day in New York and front-runners...</td>\n",
              "      <td>REAL</td>\n",
              "    </tr>\n",
              "  </tbody>\n",
              "</table>\n",
              "</div>\n",
              "      <button class=\"colab-df-convert\" onclick=\"convertToInteractive('df-810b41a3-e5f5-41e8-9921-612944da6c52')\"\n",
              "              title=\"Convert this dataframe to an interactive table.\"\n",
              "              style=\"display:none;\">\n",
              "        \n",
              "  <svg xmlns=\"http://www.w3.org/2000/svg\" height=\"24px\"viewBox=\"0 0 24 24\"\n",
              "       width=\"24px\">\n",
              "    <path d=\"M0 0h24v24H0V0z\" fill=\"none\"/>\n",
              "    <path d=\"M18.56 5.44l.94 2.06.94-2.06 2.06-.94-2.06-.94-.94-2.06-.94 2.06-2.06.94zm-11 1L8.5 8.5l.94-2.06 2.06-.94-2.06-.94L8.5 2.5l-.94 2.06-2.06.94zm10 10l.94 2.06.94-2.06 2.06-.94-2.06-.94-.94-2.06-.94 2.06-2.06.94z\"/><path d=\"M17.41 7.96l-1.37-1.37c-.4-.4-.92-.59-1.43-.59-.52 0-1.04.2-1.43.59L10.3 9.45l-7.72 7.72c-.78.78-.78 2.05 0 2.83L4 21.41c.39.39.9.59 1.41.59.51 0 1.02-.2 1.41-.59l7.78-7.78 2.81-2.81c.8-.78.8-2.07 0-2.86zM5.41 20L4 18.59l7.72-7.72 1.47 1.35L5.41 20z\"/>\n",
              "  </svg>\n",
              "      </button>\n",
              "      \n",
              "  <style>\n",
              "    .colab-df-container {\n",
              "      display:flex;\n",
              "      flex-wrap:wrap;\n",
              "      gap: 12px;\n",
              "    }\n",
              "\n",
              "    .colab-df-convert {\n",
              "      background-color: #E8F0FE;\n",
              "      border: none;\n",
              "      border-radius: 50%;\n",
              "      cursor: pointer;\n",
              "      display: none;\n",
              "      fill: #1967D2;\n",
              "      height: 32px;\n",
              "      padding: 0 0 0 0;\n",
              "      width: 32px;\n",
              "    }\n",
              "\n",
              "    .colab-df-convert:hover {\n",
              "      background-color: #E2EBFA;\n",
              "      box-shadow: 0px 1px 2px rgba(60, 64, 67, 0.3), 0px 1px 3px 1px rgba(60, 64, 67, 0.15);\n",
              "      fill: #174EA6;\n",
              "    }\n",
              "\n",
              "    [theme=dark] .colab-df-convert {\n",
              "      background-color: #3B4455;\n",
              "      fill: #D2E3FC;\n",
              "    }\n",
              "\n",
              "    [theme=dark] .colab-df-convert:hover {\n",
              "      background-color: #434B5C;\n",
              "      box-shadow: 0px 1px 3px 1px rgba(0, 0, 0, 0.15);\n",
              "      filter: drop-shadow(0px 1px 2px rgba(0, 0, 0, 0.3));\n",
              "      fill: #FFFFFF;\n",
              "    }\n",
              "  </style>\n",
              "\n",
              "      <script>\n",
              "        const buttonEl =\n",
              "          document.querySelector('#df-810b41a3-e5f5-41e8-9921-612944da6c52 button.colab-df-convert');\n",
              "        buttonEl.style.display =\n",
              "          google.colab.kernel.accessAllowed ? 'block' : 'none';\n",
              "\n",
              "        async function convertToInteractive(key) {\n",
              "          const element = document.querySelector('#df-810b41a3-e5f5-41e8-9921-612944da6c52');\n",
              "          const dataTable =\n",
              "            await google.colab.kernel.invokeFunction('convertToInteractive',\n",
              "                                                     [key], {});\n",
              "          if (!dataTable) return;\n",
              "\n",
              "          const docLinkHtml = 'Like what you see? Visit the ' +\n",
              "            '<a target=\"_blank\" href=https://colab.research.google.com/notebooks/data_table.ipynb>data table notebook</a>'\n",
              "            + ' to learn more about interactive tables.';\n",
              "          element.innerHTML = '';\n",
              "          dataTable['output_type'] = 'display_data';\n",
              "          await google.colab.output.renderOutput(dataTable, element);\n",
              "          const docLink = document.createElement('div');\n",
              "          docLink.innerHTML = docLinkHtml;\n",
              "          element.appendChild(docLink);\n",
              "        }\n",
              "      </script>\n",
              "    </div>\n",
              "  </div>\n",
              "  "
            ],
            "text/plain": [
              "   Unnamed: 0  ... label\n",
              "0        8476  ...  FAKE\n",
              "1       10294  ...  FAKE\n",
              "2        3608  ...  REAL\n",
              "3       10142  ...  FAKE\n",
              "4         875  ...  REAL\n",
              "\n",
              "[5 rows x 4 columns]"
            ]
          },
          "metadata": {},
          "execution_count": 59
        }
      ]
    },
    {
      "cell_type": "markdown",
      "source": [
        "Obter as labels do DataFrame"
      ],
      "metadata": {
        "id": "TANvGZzIfM6F"
      }
    },
    {
      "cell_type": "code",
      "source": [
        "labels=dados_base.label\n",
        "labels.head()"
      ],
      "metadata": {
        "colab": {
          "base_uri": "https://localhost:8080/"
        },
        "id": "60skkaasfOBZ",
        "outputId": "7b7f5d6f-da9c-476d-b249-0eb1de195221"
      },
      "execution_count": 60,
      "outputs": [
        {
          "output_type": "execute_result",
          "data": {
            "text/plain": [
              "0    FAKE\n",
              "1    FAKE\n",
              "2    REAL\n",
              "3    FAKE\n",
              "4    REAL\n",
              "Name: label, dtype: object"
            ]
          },
          "metadata": {},
          "execution_count": 60
        }
      ]
    },
    {
      "cell_type": "markdown",
      "source": [
        "A partir do conjunto de dados já discutido, faz-se a divisão dos dados em conjuntos de treinamento e conjunto de testes. Para isso, usa-se a função *train_test_split*, do *sklearn*. Os valores de x são a coluna do texto do DataFrame (dados_base['text']), e y são as *labels*.\n",
        "\n",
        "Neste caso, usa-se 30% dos dados para teste (test_size=0.3), e para facilitar comparações futuras define-se uma semente (random_state=1)."
      ],
      "metadata": {
        "id": "KMuLtppZfWDt"
      }
    },
    {
      "cell_type": "code",
      "source": [
        "x_treino, x_teste, y_treino, y_teste = train_test_split(dados_base['text'], labels, test_size=0.3, random_state=1)"
      ],
      "metadata": {
        "id": "9bJnSRL3fW8s"
      },
      "execution_count": 61,
      "outputs": []
    },
    {
      "cell_type": "markdown",
      "source": [
        "Como o conjunto de dados é na língua inglesa, a inicialização do TfidfVectorizer já define essa condição. Faz-se também a exclusão dos 30% de palavras mais frequentes, definindo o '*max_df*' para 0.7.\n",
        "\n",
        "Palavras de parada são as palavras mais comuns em um idioma que devem ser filtradas antes de processar os dados do idioma natural. E um TfidfVectorizer transforma uma coleção de documentos brutos em uma matriz de recursos TF-IDF.\n",
        "\n",
        "Por fim, ajusta-se e transforma o vetorizador no conjunto de treino e transforme o vetorizador no conjunto de teste."
      ],
      "metadata": {
        "id": "JOORME4gfwgi"
      }
    },
    {
      "cell_type": "code",
      "source": [
        "#Define o vetorizador\n",
        "tfidf_vetorizador=TfidfVectorizer(stop_words='english', max_df=0.7)\n",
        "\n",
        "#Treinamento\n",
        "tfidf_treino=tfidf_vetorizador.fit_transform(x_treino)\n",
        "\n",
        "#Teste\n",
        "tfidf_teste=tfidf_vetorizador.transform(x_teste)"
      ],
      "metadata": {
        "id": "vzNJviUcfymI"
      },
      "execution_count": 62,
      "outputs": []
    },
    {
      "cell_type": "markdown",
      "source": [
        "Após isso, inicializa-se o PassiveAggressiveClassifier.\n",
        "\n",
        "A seguir, usar o conjunto de testes e calcular a precisão do treino. Para isso, usar o *precision_score()* de *sklearn.metrics*."
      ],
      "metadata": {
        "id": "AwphR_KNf75t"
      }
    },
    {
      "cell_type": "code",
      "source": [
        "modelo = PassiveAggressiveClassifier(max_iter=100)\n",
        "modelo.fit(tfidf_treino,y_treino)\n",
        "\n",
        "\n",
        "y_previsao=modelo.predict(tfidf_teste)\n",
        "escore=accuracy_score(y_teste,y_previsao)\n",
        "print(f'Accuracy: {round(escore*100,2)}%')"
      ],
      "metadata": {
        "colab": {
          "base_uri": "https://localhost:8080/"
        },
        "id": "59qaMuOEf9v1",
        "outputId": "b9db2bb6-6e2b-4db1-d161-d8bf95f114c2"
      },
      "execution_count": 63,
      "outputs": [
        {
          "output_type": "stream",
          "name": "stdout",
          "text": [
            "Accuracy: 93.63%\n"
          ]
        }
      ]
    },
    {
      "cell_type": "markdown",
      "source": [
        "Obtivemos uma precisão de 93.63% com este modelo. \n",
        "\n",
        "Para finalizar, visualizamos a matriz de confusão para obter informações sobre os falsos positivos e negativos (assim como os verdadeiros positivos e negativos)"
      ],
      "metadata": {
        "id": "WsHug4q5gFPt"
      }
    },
    {
      "cell_type": "code",
      "source": [
        "#Construir a matriz de confusão\n",
        "matriz_respsota = confusion_matrix(y_test,y_pred, labels=['FAKE','REAL'])\n",
        "print(matriz_respsota)"
      ],
      "metadata": {
        "colab": {
          "base_uri": "https://localhost:8080/"
        },
        "id": "zhaY8DaZgExV",
        "outputId": "1ddbc4dd-b314-4814-e791-d82061f8f087"
      },
      "execution_count": 64,
      "outputs": [
        {
          "output_type": "stream",
          "name": "stdout",
          "text": [
            "[[920  67]\n",
            " [ 51 863]]\n"
          ]
        }
      ]
    },
    {
      "cell_type": "code",
      "source": [
        "#Verificar graficamente os resultados\n",
        "sns.heatmap(confusion_matrix(y_test,y_pred), annot=True)"
      ],
      "metadata": {
        "colab": {
          "base_uri": "https://localhost:8080/",
          "height": 282
        },
        "id": "S_HoDKjFphT8",
        "outputId": "a3e969a7-0366-4342-bab2-0bce4caebed8"
      },
      "execution_count": 65,
      "outputs": [
        {
          "output_type": "execute_result",
          "data": {
            "text/plain": [
              "<matplotlib.axes._subplots.AxesSubplot at 0x7f39c226f250>"
            ]
          },
          "metadata": {},
          "execution_count": 65
        },
        {
          "output_type": "display_data",
          "data": {
            "image/png": "[encoded data removed]",
            "text/plain": [
              "<Figure size 432x288 with 2 Axes>"
            ]
          },
          "metadata": {
            "needs_background": "light"
          }
        }
      ]
    },
    {
      "cell_type": "markdown",
      "source": [
        "Resumindo: a partir de um conjunto de dados políticos, foi implementado um *TfidfVectorizer* com *PassiveAggressiveClassifier* e ajustou-se o modelo. Por fim, obteve-se uma boa exatidão, com mais de 93% de acertos.\n"
      ],
      "metadata": {
        "id": "m9R1bPv9gP2g"
      }
    }
  ]
}