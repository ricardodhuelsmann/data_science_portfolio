{
 "cells": [
  {
   "cell_type": "markdown",
   "metadata": {},
   "source": [
    "## Árvores de decisão  "
   ]
  },
  {
   "cell_type": "markdown",
   "metadata": {},
   "source": [
    "### Introdução"
   ]
  },
  {
   "cell_type": "markdown",
   "metadata": {
    "id": "l3XuOmSDGcS7"
   },
   "source": [
    "Árvores de decisão, como o nome sugere, são estruturas que imitam o formato de uma árvore, onde cada nó representa um atributo, um ramo representa uma regra de decisão, e as folhas representam saídas, resultados.\n",
    "\n",
    "De maneira geral, o algoritmo trabalha dividindo o conjunto de dados de acordo com atributos em cada nó, enquanto tenta reduzir a medida de seleção (*Gini index*). Em resumo, o intuito da árvore de decisão é dividir dados até ser capaz de classificar eles de acordo com o objetivo."
   ]
  },
  {
   "cell_type": "markdown",
   "metadata": {
    "id": "H585DYC5HZFd"
   },
   "source": [
    "Para este exemplo, o conjunto de dados *iris*  disponibilizado pelo *sklearn* será utilizado, dada sua facilidade de implementação. Um aspecto especial do classificador de árvore de decisão do *sklearn* é que as variáveis podem ser categóricas ou numéricas.\n",
    "\n",
    "Este exemplo foi baseado em código de Philip Wilkinson\n",
    "https://github.com/UCL-DSS/DecisionTree-classifiers-worksop/blob/main/Decision-Tree%20workshop.ipynb"
   ]
  },
  {
   "cell_type": "code",
   "execution_count": 14,
   "metadata": {
    "executionInfo": {
     "elapsed": 292,
     "status": "ok",
     "timestamp": 1644439155768,
     "user": {
      "displayName": "Ricardo Dagnoni Huelsmann",
      "photoUrl": "https://lh3.googleusercontent.com/a/default-user=s64",
      "userId": "04260757107157426288"
     },
     "user_tz": 180
    },
    "id": "LTLZ-1x9FOWO"
   },
   "outputs": [],
   "source": [
    "#Incialmente, como sempre nos códigos em Python, faz-se a importação das bibliotecas necessárias\n",
    "import matplotlib.pyplot as plt\n",
    "import seaborn as sns\n",
    "import pandas as pd\n",
    "import numpy as np\n",
    "from sklearn import tree, metrics\n",
    "from sklearn.datasets import load_iris\n",
    "from sklearn.tree import DecisionTreeClassifier, export_text\n",
    "from sklearn.model_selection import train_test_split"
   ]
  },
  {
   "cell_type": "code",
   "execution_count": 2,
   "metadata": {
    "executionInfo": {
     "elapsed": 273,
     "status": "ok",
     "timestamp": 1644437926775,
     "user": {
      "displayName": "Ricardo Dagnoni Huelsmann",
      "photoUrl": "https://lh3.googleusercontent.com/a/default-user=s64",
      "userId": "04260757107157426288"
     },
     "user_tz": 180
    },
    "id": "iu6WPdSuIYYy"
   },
   "outputs": [],
   "source": [
    "#Carregar os dados\n",
    "dados = load_iris()\n",
    "\n",
    "#Fazer a conversão dos dados em um dataframe do Pandas\n",
    "dataframe = pd.DataFrame(dados.data, columns = dados.feature_names)\n",
    "\n",
    "#Indicar que a coluna das espécies é o alvo da classificação\n",
    "dataframe['Species'] = dados.target"
   ]
  },
  {
   "cell_type": "code",
   "execution_count": 3,
   "metadata": {
    "colab": {
     "base_uri": "https://localhost:8080/",
     "height": 363
    },
    "executionInfo": {
     "elapsed": 301,
     "status": "ok",
     "timestamp": 1644437948006,
     "user": {
      "displayName": "Ricardo Dagnoni Huelsmann",
      "photoUrl": "https://lh3.googleusercontent.com/a/default-user=s64",
      "userId": "04260757107157426288"
     },
     "user_tz": 180
    },
    "id": "Ye2HCVCEI6ZX",
    "outputId": "142b89b2-fa28-4465-b25b-8269d337f9b8"
   },
   "outputs": [
    {
     "data": {
      "text/html": [
       "<div>\n",
       "<style scoped>\n",
       "    .dataframe tbody tr th:only-of-type {\n",
       "        vertical-align: middle;\n",
       "    }\n",
       "\n",
       "    .dataframe tbody tr th {\n",
       "        vertical-align: top;\n",
       "    }\n",
       "\n",
       "    .dataframe thead th {\n",
       "        text-align: right;\n",
       "    }\n",
       "</style>\n",
       "<table border=\"1\" class=\"dataframe\">\n",
       "  <thead>\n",
       "    <tr style=\"text-align: right;\">\n",
       "      <th></th>\n",
       "      <th>sepal length (cm)</th>\n",
       "      <th>sepal width (cm)</th>\n",
       "      <th>petal length (cm)</th>\n",
       "      <th>petal width (cm)</th>\n",
       "      <th>Species</th>\n",
       "    </tr>\n",
       "  </thead>\n",
       "  <tbody>\n",
       "    <tr>\n",
       "      <th>14</th>\n",
       "      <td>5.8</td>\n",
       "      <td>4.0</td>\n",
       "      <td>1.2</td>\n",
       "      <td>0.2</td>\n",
       "      <td>0</td>\n",
       "    </tr>\n",
       "    <tr>\n",
       "      <th>98</th>\n",
       "      <td>5.1</td>\n",
       "      <td>2.5</td>\n",
       "      <td>3.0</td>\n",
       "      <td>1.1</td>\n",
       "      <td>1</td>\n",
       "    </tr>\n",
       "    <tr>\n",
       "      <th>75</th>\n",
       "      <td>6.6</td>\n",
       "      <td>3.0</td>\n",
       "      <td>4.4</td>\n",
       "      <td>1.4</td>\n",
       "      <td>1</td>\n",
       "    </tr>\n",
       "    <tr>\n",
       "      <th>16</th>\n",
       "      <td>5.4</td>\n",
       "      <td>3.9</td>\n",
       "      <td>1.3</td>\n",
       "      <td>0.4</td>\n",
       "      <td>0</td>\n",
       "    </tr>\n",
       "    <tr>\n",
       "      <th>131</th>\n",
       "      <td>7.9</td>\n",
       "      <td>3.8</td>\n",
       "      <td>6.4</td>\n",
       "      <td>2.0</td>\n",
       "      <td>2</td>\n",
       "    </tr>\n",
       "    <tr>\n",
       "      <th>56</th>\n",
       "      <td>6.3</td>\n",
       "      <td>3.3</td>\n",
       "      <td>4.7</td>\n",
       "      <td>1.6</td>\n",
       "      <td>1</td>\n",
       "    </tr>\n",
       "    <tr>\n",
       "      <th>141</th>\n",
       "      <td>6.9</td>\n",
       "      <td>3.1</td>\n",
       "      <td>5.1</td>\n",
       "      <td>2.3</td>\n",
       "      <td>2</td>\n",
       "    </tr>\n",
       "    <tr>\n",
       "      <th>44</th>\n",
       "      <td>5.1</td>\n",
       "      <td>3.8</td>\n",
       "      <td>1.9</td>\n",
       "      <td>0.4</td>\n",
       "      <td>0</td>\n",
       "    </tr>\n",
       "    <tr>\n",
       "      <th>29</th>\n",
       "      <td>4.7</td>\n",
       "      <td>3.2</td>\n",
       "      <td>1.6</td>\n",
       "      <td>0.2</td>\n",
       "      <td>0</td>\n",
       "    </tr>\n",
       "    <tr>\n",
       "      <th>120</th>\n",
       "      <td>6.9</td>\n",
       "      <td>3.2</td>\n",
       "      <td>5.7</td>\n",
       "      <td>2.3</td>\n",
       "      <td>2</td>\n",
       "    </tr>\n",
       "  </tbody>\n",
       "</table>\n",
       "</div>"
      ],
      "text/plain": [
       "     sepal length (cm)  sepal width (cm)  petal length (cm)  petal width (cm)  \\\n",
       "14                 5.8               4.0                1.2               0.2   \n",
       "98                 5.1               2.5                3.0               1.1   \n",
       "75                 6.6               3.0                4.4               1.4   \n",
       "16                 5.4               3.9                1.3               0.4   \n",
       "131                7.9               3.8                6.4               2.0   \n",
       "56                 6.3               3.3                4.7               1.6   \n",
       "141                6.9               3.1                5.1               2.3   \n",
       "44                 5.1               3.8                1.9               0.4   \n",
       "29                 4.7               3.2                1.6               0.2   \n",
       "120                6.9               3.2                5.7               2.3   \n",
       "\n",
       "     Species  \n",
       "14         0  \n",
       "98         1  \n",
       "75         1  \n",
       "16         0  \n",
       "131        2  \n",
       "56         1  \n",
       "141        2  \n",
       "44         0  \n",
       "29         0  \n",
       "120        2  "
      ]
     },
     "execution_count": 3,
     "metadata": {},
     "output_type": "execute_result"
    }
   ],
   "source": [
    "#Mostrar alguns exemplos do conjunto de dados\n",
    "dataframe.sample(10, random_state=1)"
   ]
  },
  {
   "cell_type": "code",
   "execution_count": 4,
   "metadata": {
    "colab": {
     "base_uri": "https://localhost:8080/"
    },
    "executionInfo": {
     "elapsed": 298,
     "status": "ok",
     "timestamp": 1644438019805,
     "user": {
      "displayName": "Ricardo Dagnoni Huelsmann",
      "photoUrl": "https://lh3.googleusercontent.com/a/default-user=s64",
      "userId": "04260757107157426288"
     },
     "user_tz": 180
    },
    "id": "eq3bRY-LI_bi",
    "outputId": "af58be17-4924-4a77-d126-5c8f41eb9ba8"
   },
   "outputs": [
    {
     "data": {
      "text/plain": [
       "{0: 'setosa', 1: 'versicolor', 2: 'virginica'}"
      ]
     },
     "execution_count": 4,
     "metadata": {},
     "output_type": "execute_result"
    }
   ],
   "source": [
    "#Indicar os alvos da classificação, com as correspondências entre número e nome\n",
    "alvos = np.unique(dados.target)\n",
    "nomes_alvos = np.unique(dados.target_names)\n",
    "\n",
    "alvos = dict(zip(alvos, nomes_alvos))\n",
    "alvos"
   ]
  },
  {
   "cell_type": "code",
   "execution_count": 5,
   "metadata": {
    "executionInfo": {
     "elapsed": 283,
     "status": "ok",
     "timestamp": 1644438043390,
     "user": {
      "displayName": "Ricardo Dagnoni Huelsmann",
      "photoUrl": "https://lh3.googleusercontent.com/a/default-user=s64",
      "userId": "04260757107157426288"
     },
     "user_tz": 180
    },
    "id": "FvXxiC6tJQFU"
   },
   "outputs": [],
   "source": [
    "#Corrigir os valores alvo no dataframe\n",
    "dataframe.Species = dataframe['Species'].replace(alvos)"
   ]
  },
  {
   "cell_type": "code",
   "execution_count": 6,
   "metadata": {
    "colab": {
     "base_uri": "https://localhost:8080/",
     "height": 363
    },
    "executionInfo": {
     "elapsed": 315,
     "status": "ok",
     "timestamp": 1644438076059,
     "user": {
      "displayName": "Ricardo Dagnoni Huelsmann",
      "photoUrl": "https://lh3.googleusercontent.com/a/default-user=s64",
      "userId": "04260757107157426288"
     },
     "user_tz": 180
    },
    "id": "51J9y1zrJU4y",
    "outputId": "650d6bc6-fb58-48a2-d160-ba6c9f278b4a"
   },
   "outputs": [
    {
     "data": {
      "text/html": [
       "<div>\n",
       "<style scoped>\n",
       "    .dataframe tbody tr th:only-of-type {\n",
       "        vertical-align: middle;\n",
       "    }\n",
       "\n",
       "    .dataframe tbody tr th {\n",
       "        vertical-align: top;\n",
       "    }\n",
       "\n",
       "    .dataframe thead th {\n",
       "        text-align: right;\n",
       "    }\n",
       "</style>\n",
       "<table border=\"1\" class=\"dataframe\">\n",
       "  <thead>\n",
       "    <tr style=\"text-align: right;\">\n",
       "      <th></th>\n",
       "      <th>sepal length (cm)</th>\n",
       "      <th>sepal width (cm)</th>\n",
       "      <th>petal length (cm)</th>\n",
       "      <th>petal width (cm)</th>\n",
       "      <th>Species</th>\n",
       "    </tr>\n",
       "  </thead>\n",
       "  <tbody>\n",
       "    <tr>\n",
       "      <th>14</th>\n",
       "      <td>5.8</td>\n",
       "      <td>4.0</td>\n",
       "      <td>1.2</td>\n",
       "      <td>0.2</td>\n",
       "      <td>setosa</td>\n",
       "    </tr>\n",
       "    <tr>\n",
       "      <th>98</th>\n",
       "      <td>5.1</td>\n",
       "      <td>2.5</td>\n",
       "      <td>3.0</td>\n",
       "      <td>1.1</td>\n",
       "      <td>versicolor</td>\n",
       "    </tr>\n",
       "    <tr>\n",
       "      <th>75</th>\n",
       "      <td>6.6</td>\n",
       "      <td>3.0</td>\n",
       "      <td>4.4</td>\n",
       "      <td>1.4</td>\n",
       "      <td>versicolor</td>\n",
       "    </tr>\n",
       "    <tr>\n",
       "      <th>16</th>\n",
       "      <td>5.4</td>\n",
       "      <td>3.9</td>\n",
       "      <td>1.3</td>\n",
       "      <td>0.4</td>\n",
       "      <td>setosa</td>\n",
       "    </tr>\n",
       "    <tr>\n",
       "      <th>131</th>\n",
       "      <td>7.9</td>\n",
       "      <td>3.8</td>\n",
       "      <td>6.4</td>\n",
       "      <td>2.0</td>\n",
       "      <td>virginica</td>\n",
       "    </tr>\n",
       "    <tr>\n",
       "      <th>56</th>\n",
       "      <td>6.3</td>\n",
       "      <td>3.3</td>\n",
       "      <td>4.7</td>\n",
       "      <td>1.6</td>\n",
       "      <td>versicolor</td>\n",
       "    </tr>\n",
       "    <tr>\n",
       "      <th>141</th>\n",
       "      <td>6.9</td>\n",
       "      <td>3.1</td>\n",
       "      <td>5.1</td>\n",
       "      <td>2.3</td>\n",
       "      <td>virginica</td>\n",
       "    </tr>\n",
       "    <tr>\n",
       "      <th>44</th>\n",
       "      <td>5.1</td>\n",
       "      <td>3.8</td>\n",
       "      <td>1.9</td>\n",
       "      <td>0.4</td>\n",
       "      <td>setosa</td>\n",
       "    </tr>\n",
       "    <tr>\n",
       "      <th>29</th>\n",
       "      <td>4.7</td>\n",
       "      <td>3.2</td>\n",
       "      <td>1.6</td>\n",
       "      <td>0.2</td>\n",
       "      <td>setosa</td>\n",
       "    </tr>\n",
       "    <tr>\n",
       "      <th>120</th>\n",
       "      <td>6.9</td>\n",
       "      <td>3.2</td>\n",
       "      <td>5.7</td>\n",
       "      <td>2.3</td>\n",
       "      <td>virginica</td>\n",
       "    </tr>\n",
       "  </tbody>\n",
       "</table>\n",
       "</div>"
      ],
      "text/plain": [
       "     sepal length (cm)  sepal width (cm)  petal length (cm)  petal width (cm)  \\\n",
       "14                 5.8               4.0                1.2               0.2   \n",
       "98                 5.1               2.5                3.0               1.1   \n",
       "75                 6.6               3.0                4.4               1.4   \n",
       "16                 5.4               3.9                1.3               0.4   \n",
       "131                7.9               3.8                6.4               2.0   \n",
       "56                 6.3               3.3                4.7               1.6   \n",
       "141                6.9               3.1                5.1               2.3   \n",
       "44                 5.1               3.8                1.9               0.4   \n",
       "29                 4.7               3.2                1.6               0.2   \n",
       "120                6.9               3.2                5.7               2.3   \n",
       "\n",
       "        Species  \n",
       "14       setosa  \n",
       "98   versicolor  \n",
       "75   versicolor  \n",
       "16       setosa  \n",
       "131   virginica  \n",
       "56   versicolor  \n",
       "141   virginica  \n",
       "44       setosa  \n",
       "29       setosa  \n",
       "120   virginica  "
      ]
     },
     "execution_count": 6,
     "metadata": {},
     "output_type": "execute_result"
    }
   ],
   "source": [
    "#Visualizar como ficou o resultado\n",
    "dataframe.sample(10, random_state=1)"
   ]
  },
  {
   "cell_type": "code",
   "execution_count": 7,
   "metadata": {
    "colab": {
     "base_uri": "https://localhost:8080/",
     "height": 300
    },
    "executionInfo": {
     "elapsed": 299,
     "status": "ok",
     "timestamp": 1644438108747,
     "user": {
      "displayName": "Ricardo Dagnoni Huelsmann",
      "photoUrl": "https://lh3.googleusercontent.com/a/default-user=s64",
      "userId": "04260757107157426288"
     },
     "user_tz": 180
    },
    "id": "Hv_ZVT5aJe01",
    "outputId": "48473d2a-37a0-4627-9139-c09b0dcf1d79"
   },
   "outputs": [
    {
     "data": {
      "text/html": [
       "<div>\n",
       "<style scoped>\n",
       "    .dataframe tbody tr th:only-of-type {\n",
       "        vertical-align: middle;\n",
       "    }\n",
       "\n",
       "    .dataframe tbody tr th {\n",
       "        vertical-align: top;\n",
       "    }\n",
       "\n",
       "    .dataframe thead th {\n",
       "        text-align: right;\n",
       "    }\n",
       "</style>\n",
       "<table border=\"1\" class=\"dataframe\">\n",
       "  <thead>\n",
       "    <tr style=\"text-align: right;\">\n",
       "      <th></th>\n",
       "      <th>sepal length (cm)</th>\n",
       "      <th>sepal width (cm)</th>\n",
       "      <th>petal length (cm)</th>\n",
       "      <th>petal width (cm)</th>\n",
       "    </tr>\n",
       "  </thead>\n",
       "  <tbody>\n",
       "    <tr>\n",
       "      <th>count</th>\n",
       "      <td>150.000000</td>\n",
       "      <td>150.000000</td>\n",
       "      <td>150.000000</td>\n",
       "      <td>150.000000</td>\n",
       "    </tr>\n",
       "    <tr>\n",
       "      <th>mean</th>\n",
       "      <td>5.843333</td>\n",
       "      <td>3.057333</td>\n",
       "      <td>3.758000</td>\n",
       "      <td>1.199333</td>\n",
       "    </tr>\n",
       "    <tr>\n",
       "      <th>std</th>\n",
       "      <td>0.828066</td>\n",
       "      <td>0.435866</td>\n",
       "      <td>1.765298</td>\n",
       "      <td>0.762238</td>\n",
       "    </tr>\n",
       "    <tr>\n",
       "      <th>min</th>\n",
       "      <td>4.300000</td>\n",
       "      <td>2.000000</td>\n",
       "      <td>1.000000</td>\n",
       "      <td>0.100000</td>\n",
       "    </tr>\n",
       "    <tr>\n",
       "      <th>25%</th>\n",
       "      <td>5.100000</td>\n",
       "      <td>2.800000</td>\n",
       "      <td>1.600000</td>\n",
       "      <td>0.300000</td>\n",
       "    </tr>\n",
       "    <tr>\n",
       "      <th>50%</th>\n",
       "      <td>5.800000</td>\n",
       "      <td>3.000000</td>\n",
       "      <td>4.350000</td>\n",
       "      <td>1.300000</td>\n",
       "    </tr>\n",
       "    <tr>\n",
       "      <th>75%</th>\n",
       "      <td>6.400000</td>\n",
       "      <td>3.300000</td>\n",
       "      <td>5.100000</td>\n",
       "      <td>1.800000</td>\n",
       "    </tr>\n",
       "    <tr>\n",
       "      <th>max</th>\n",
       "      <td>7.900000</td>\n",
       "      <td>4.400000</td>\n",
       "      <td>6.900000</td>\n",
       "      <td>2.500000</td>\n",
       "    </tr>\n",
       "  </tbody>\n",
       "</table>\n",
       "</div>"
      ],
      "text/plain": [
       "       sepal length (cm)  sepal width (cm)  petal length (cm)  \\\n",
       "count         150.000000        150.000000         150.000000   \n",
       "mean            5.843333          3.057333           3.758000   \n",
       "std             0.828066          0.435866           1.765298   \n",
       "min             4.300000          2.000000           1.000000   \n",
       "25%             5.100000          2.800000           1.600000   \n",
       "50%             5.800000          3.000000           4.350000   \n",
       "75%             6.400000          3.300000           5.100000   \n",
       "max             7.900000          4.400000           6.900000   \n",
       "\n",
       "       petal width (cm)  \n",
       "count        150.000000  \n",
       "mean           1.199333  \n",
       "std            0.762238  \n",
       "min            0.100000  \n",
       "25%            0.300000  \n",
       "50%            1.300000  \n",
       "75%            1.800000  \n",
       "max            2.500000  "
      ]
     },
     "execution_count": 7,
     "metadata": {},
     "output_type": "execute_result"
    }
   ],
   "source": [
    "#Analisar de maneira geral os dados\n",
    "dataframe.describe()"
   ]
  },
  {
   "cell_type": "code",
   "execution_count": 8,
   "metadata": {
    "colab": {
     "base_uri": "https://localhost:8080/",
     "height": 748
    },
    "executionInfo": {
     "elapsed": 1876,
     "status": "ok",
     "timestamp": 1644438602517,
     "user": {
      "displayName": "Ricardo Dagnoni Huelsmann",
      "photoUrl": "https://lh3.googleusercontent.com/a/default-user=s64",
      "userId": "04260757107157426288"
     },
     "user_tz": 180
    },
    "id": "uUYF_md8J7rs",
    "outputId": "cb6098d3-a522-4f88-8240-e5acb1bd3908"
   },
   "outputs": [
    {
     "data": {
      "text/plain": [
       "Text(0, 0.5, 'Frequência')"
      ]
     },
     "execution_count": 8,
     "metadata": {},
     "output_type": "execute_result"
    },
    {
     "data": {
      "image/png": "[encoded data removed]",
      "text/plain": [
       "<Figure size 864x864 with 4 Axes>"
      ]
     },
     "metadata": {
      "needs_background": "light"
     },
     "output_type": "display_data"
    }
   ],
   "source": [
    "#Uma vez que os dados estão padronizados, pode-se ser feita uma análise visual do conjunto\n",
    "figura, eixo = plt.subplots(2,2, figsize = (12,12))\n",
    "\n",
    "for x in nomes_alvos: \n",
    "    eixo[0,0].hist(dataframe[dataframe.Species == x][\"sepal length (cm)\"], alpha = 0.6)\n",
    "    eixo[0,1].hist(dataframe[dataframe.Species == x][\"sepal width (cm)\"], alpha = 0.6)\n",
    "    eixo[1,0].hist(dataframe[dataframe.Species == x][\"petal length (cm)\"],alpha = 0.6)\n",
    "    eixo[1,1].hist(dataframe[dataframe.Species == x][\"petal width (cm)\"], alpha = 0.6)\n",
    "\n",
    "eixo[0,0].legend(labels = nomes_alvos, title = \"Espécies\")\n",
    "eixo[0,0].set_title(\"Comprimento da sépala (cm) por espécies de flores\")\n",
    "eixo[0,0].set_xlabel(\"Comprimento da sépala (cm)\")\n",
    "eixo[0,0].set_ylabel(\"Frequência\")\n",
    "\n",
    "eixo[0,1].legend(labels = nomes_alvos, title = \"Espécies\")\n",
    "eixo[0,1].set_title(\"Largura da sépala (cm) por espécies de flores\")\n",
    "eixo[0,1].set_xlabel(\"Largura da sépala (cm)\")\n",
    "eixo[0,1].set_ylabel(\"Frequência\")\n",
    "\n",
    "eixo[1,0].legend(labels = nomes_alvos, title = \"Espécies\")\n",
    "eixo[1,0].set_title(\"Comprimento da pétala (cm) por espécies de flores\")\n",
    "eixo[1,0].set_xlabel(\"Comprimento da pétala (cm)\")\n",
    "eixo[1,0].set_ylabel(\"Frequência\")\n",
    "\n",
    "eixo[1,1].legend(labels = nomes_alvos, title = \"Espécies\")\n",
    "eixo[1,1].set_title(\"Largura da pétala (cm) por espécies de flores\")\n",
    "eixo[1,1].set_xlabel(\"Largura da pétala (cm)\")\n",
    "eixo[1,1].set_ylabel(\"Frequência\")"
   ]
  },
  {
   "cell_type": "code",
   "execution_count": 9,
   "metadata": {
    "executionInfo": {
     "elapsed": 313,
     "status": "ok",
     "timestamp": 1644438669550,
     "user": {
      "displayName": "Ricardo Dagnoni Huelsmann",
      "photoUrl": "https://lh3.googleusercontent.com/a/default-user=s64",
      "userId": "04260757107157426288"
     },
     "user_tz": 180
    },
    "id": "C_sp4OVqLoum"
   },
   "outputs": [],
   "source": [
    "#Agora, é hora de declarar quais dados fazem parte da entrada (x) e quais são os alvos (y)\n",
    "y = dataframe[\"Species\"]\n",
    "x = dataframe.drop(columns=\"Species\")"
   ]
  },
  {
   "cell_type": "code",
   "execution_count": 10,
   "metadata": {
    "executionInfo": {
     "elapsed": 252,
     "status": "ok",
     "timestamp": 1644438740262,
     "user": {
      "displayName": "Ricardo Dagnoni Huelsmann",
      "photoUrl": "https://lh3.googleusercontent.com/a/default-user=s64",
      "userId": "04260757107157426288"
     },
     "user_tz": 180
    },
    "id": "6sCfMqaoLuez"
   },
   "outputs": [],
   "source": [
    "#Uma vez declarados x e y, divide-se os dados em conjuntos de treino e teste, deixando 30% para testes\n",
    "x_treino, x_teste, y_treino, y_teste = train_test_split(x, y, test_size=0.3, random_state = 1)"
   ]
  },
  {
   "cell_type": "code",
   "execution_count": 11,
   "metadata": {
    "colab": {
     "base_uri": "https://localhost:8080/"
    },
    "executionInfo": {
     "elapsed": 424,
     "status": "ok",
     "timestamp": 1644438785314,
     "user": {
      "displayName": "Ricardo Dagnoni Huelsmann",
      "photoUrl": "https://lh3.googleusercontent.com/a/default-user=s64",
      "userId": "04260757107157426288"
     },
     "user_tz": 180
    },
    "id": "Vk_jPJsXIUGA",
    "outputId": "f228a719-7c3b-43b8-afa6-efd3e29f8662"
   },
   "outputs": [
    {
     "data": {
      "text/plain": [
       "DecisionTreeClassifier(max_depth=3, random_state=1)"
      ]
     },
     "execution_count": 11,
     "metadata": {},
     "output_type": "execute_result"
    }
   ],
   "source": [
    "#Inicia-se o classificador baseado em Árvore de Decisão, e faz o treinamento do mesmo\n",
    "classificador = DecisionTreeClassifier(max_depth =3, random_state = 1)\n",
    "classificador.fit(x_treino, y_treino)"
   ]
  },
  {
   "cell_type": "code",
   "execution_count": 12,
   "metadata": {
    "executionInfo": {
     "elapsed": 292,
     "status": "ok",
     "timestamp": 1644438899244,
     "user": {
      "displayName": "Ricardo Dagnoni Huelsmann",
      "photoUrl": "https://lh3.googleusercontent.com/a/default-user=s64",
      "userId": "04260757107157426288"
     },
     "user_tz": 180
    },
    "id": "sxzJLmBOMkKq"
   },
   "outputs": [],
   "source": [
    "#Extração de características dos dados\n",
    "nomes_caracteristicas = x.columns\n",
    "caracteristicas = list(x.columns)\n",
    "label = y.unique()"
   ]
  },
  {
   "cell_type": "code",
   "execution_count": 13,
   "metadata": {
    "colab": {
     "base_uri": "https://localhost:8080/",
     "height": 679
    },
    "executionInfo": {
     "elapsed": 2100,
     "status": "ok",
     "timestamp": 1644439485190,
     "user": {
      "displayName": "Ricardo Dagnoni Huelsmann",
      "photoUrl": "https://lh3.googleusercontent.com/a/default-user=s64",
      "userId": "04260757107157426288"
     },
     "user_tz": 180
    },
    "id": "MB8pO6q9MSNt",
    "outputId": "ebadd97e-9fda-437c-81d7-3bf446a9c9eb"
   },
   "outputs": [
    {
     "data": {
      "image/png": "[encoded data removed]",
      "text/plain": [
       "<Figure size 1440x1080 with 1 Axes>"
      ]
     },
     "metadata": {},
     "output_type": "display_data"
    }
   ],
   "source": [
    "#Visualizar graficamente como ficou a árvore de decisão\n",
    "plt.figure(figsize=(20,15), facecolor ='w')\n",
    "a = tree.plot_tree(classificador,\n",
    "                   feature_names = nomes_caracteristicas,\n",
    "                   class_names = y.unique(),\n",
    "                   rounded = True,\n",
    "                   filled = True,\n",
    "                   fontsize=14)\n",
    "\n",
    "plt.show()"
   ]
  },
  {
   "cell_type": "code",
   "execution_count": 15,
   "metadata": {
    "colab": {
     "base_uri": "https://localhost:8080/"
    },
    "executionInfo": {
     "elapsed": 312,
     "status": "ok",
     "timestamp": 1644438985745,
     "user": {
      "displayName": "Ricardo Dagnoni Huelsmann",
      "photoUrl": "https://lh3.googleusercontent.com/a/default-user=s64",
      "userId": "04260757107157426288"
     },
     "user_tz": 180
    },
    "id": "ENTvL30LM3Yn",
    "outputId": "e2c39c20-a36c-4f14-e2f4-ff100b0d2a02"
   },
   "outputs": [
    {
     "name": "stdout",
     "output_type": "stream",
     "text": [
      "|--- petal width (cm) <= 0.80\n",
      "|   |--- class: setosa\n",
      "|--- petal width (cm) >  0.80\n",
      "|   |--- petal width (cm) <= 1.65\n",
      "|   |   |--- petal length (cm) <= 5.00\n",
      "|   |   |   |--- class: versicolor\n",
      "|   |   |--- petal length (cm) >  5.00\n",
      "|   |   |   |--- class: virginica\n",
      "|   |--- petal width (cm) >  1.65\n",
      "|   |   |--- petal length (cm) <= 4.85\n",
      "|   |   |   |--- class: virginica\n",
      "|   |   |--- petal length (cm) >  4.85\n",
      "|   |   |   |--- class: virginica\n",
      "\n"
     ]
    }
   ],
   "source": [
    "#Agora, de maneira textual\n",
    "regras_arvore = export_text(classificador, feature_names = caracteristicas)\n",
    "print(regras_arvore)"
   ]
  },
  {
   "cell_type": "code",
   "execution_count": 16,
   "metadata": {
    "executionInfo": {
     "elapsed": 313,
     "status": "ok",
     "timestamp": 1644439024299,
     "user": {
      "displayName": "Ricardo Dagnoni Huelsmann",
      "photoUrl": "https://lh3.googleusercontent.com/a/default-user=s64",
      "userId": "04260757107157426288"
     },
     "user_tz": 180
    },
    "id": "pbj-pYrSM-RT"
   },
   "outputs": [],
   "source": [
    "#Usando o modelo treinado, encontrar previsão com valores de teste de entrada\n",
    "teste_previsão = classificador.predict(x_teste)"
   ]
  },
  {
   "cell_type": "code",
   "execution_count": 17,
   "metadata": {
    "colab": {
     "base_uri": "https://localhost:8080/"
    },
    "executionInfo": {
     "elapsed": 298,
     "status": "ok",
     "timestamp": 1644439072647,
     "user": {
      "displayName": "Ricardo Dagnoni Huelsmann",
      "photoUrl": "https://lh3.googleusercontent.com/a/default-user=s64",
      "userId": "04260757107157426288"
     },
     "user_tz": 180
    },
    "id": "_1d_VjiPNE8d",
    "outputId": "36cfbcf9-5111-4ba4-f1db-42049016fbaf"
   },
   "outputs": [
    {
     "name": "stdout",
     "output_type": "stream",
     "text": [
      "[[14  0  0]\n",
      " [ 0 17  1]\n",
      " [ 0  1 12]]\n"
     ]
    }
   ],
   "source": [
    "#Com os valores obtidos, analsiar a matriz de confusão\n",
    "matriz_confusao = metrics.confusion_matrix(y_teste, teste_previsão)\n",
    "print(matriz_confusao)"
   ]
  },
  {
   "cell_type": "code",
   "execution_count": 18,
   "metadata": {
    "executionInfo": {
     "elapsed": 275,
     "status": "ok",
     "timestamp": 1644439179353,
     "user": {
      "displayName": "Ricardo Dagnoni Huelsmann",
      "photoUrl": "https://lh3.googleusercontent.com/a/default-user=s64",
      "userId": "04260757107157426288"
     },
     "user_tz": 180
    },
    "id": "pdlmOT8BNmSu"
   },
   "outputs": [],
   "source": [
    "#Para ficar mais fácil, vamos montar um modelo que facilita o aprendizado visualmente\n",
    "matriz_df = pd.DataFrame(matriz_confusao)"
   ]
  },
  {
   "cell_type": "code",
   "execution_count": 19,
   "metadata": {
    "colab": {
     "base_uri": "https://localhost:8080/",
     "height": 323
    },
    "executionInfo": {
     "elapsed": 894,
     "status": "ok",
     "timestamp": 1644439284496,
     "user": {
      "displayName": "Ricardo Dagnoni Huelsmann",
      "photoUrl": "https://lh3.googleusercontent.com/a/default-user=s64",
      "userId": "04260757107157426288"
     },
     "user_tz": 180
    },
    "id": "UCCpnM0MNqW0",
    "outputId": "4fc81606-413d-4b5a-e921-b7e9c8df918d"
   },
   "outputs": [
    {
     "data": {
      "image/png": "[encoded data removed]",
      "text/plain": [
       "<Figure size 432x288 with 2 Axes>"
      ]
     },
     "metadata": {
      "needs_background": "light"
     },
     "output_type": "display_data"
    },
    {
     "data": {
      "text/plain": [
       "<Figure size 720x576 with 0 Axes>"
      ]
     },
     "metadata": {},
     "output_type": "display_data"
    }
   ],
   "source": [
    "ax = plt.axes()\n",
    "sns.set(font_scale=1.1)\n",
    "plt.figure(figsize=(10,8))\n",
    "sns.heatmap(matriz_df, annot=True, fmt=\"g\", ax=ax, cmap=\"magma_r\")\n",
    "\n",
    "ax.set_title('Matriz de confusão - Árvore de decisão')\n",
    "ax.set_xticklabels(['']+label)\n",
    "ax.set_xlabel(\"Previsão\", fontsize =15)\n",
    "ax.set_yticklabels(list(label), rotation = 0)\n",
    "ax.set_ylabel(\"Verdade\", fontsize=15)\n",
    "plt.show()"
   ]
  },
  {
   "cell_type": "code",
   "execution_count": 32,
   "metadata": {},
   "outputs": [
    {
     "name": "stdout",
     "output_type": "stream",
     "text": [
      "Acurácia geral =  95.56 %\n"
     ]
    }
   ],
   "source": [
    "#Uma vez conhecidos os valores de teste, pode-se comparar com o esperado\n",
    "acuracia = metrics.accuracy_score(y_teste, teste_previsão)\n",
    "print(\"Acurácia geral = \", round(acuracia*100, 2), \"%\")"
   ]
  },
  {
   "cell_type": "code",
   "execution_count": 38,
   "metadata": {},
   "outputs": [
    {
     "name": "stdout",
     "output_type": "stream",
     "text": [
      "setosa  =  100.0 %\n",
      "versicolor  =  94.44 %\n",
      "virginica  =  92.31 %\n"
     ]
    }
   ],
   "source": [
    "#Agora analisando a resposta de cada tipo de flor\n",
    "medidas_por_flor = metrics.precision_score(y_teste, teste_previsão, average=None)\n",
    "for i in range(len(label)):\n",
    "    print(label[i], ' = ', round(medidas_por_flor[i]*100, 2), \"%\")"
   ]
  },
  {
   "cell_type": "code",
   "execution_count": 40,
   "metadata": {},
   "outputs": [
    {
     "name": "stdout",
     "output_type": "stream",
     "text": [
      "              precision    recall  f1-score   support\n",
      "\n",
      "      setosa       1.00      1.00      1.00        14\n",
      "  versicolor       0.94      0.94      0.94        18\n",
      "   virginica       0.92      0.92      0.92        13\n",
      "\n",
      "    accuracy                           0.96        45\n",
      "   macro avg       0.96      0.96      0.96        45\n",
      "weighted avg       0.96      0.96      0.96        45\n",
      "\n"
     ]
    }
   ],
   "source": [
    "#Para obter mais resultados analíticos\n",
    "resultados = metrics.classification_report(y_teste, teste_previsão)\n",
    "print(resultados)"
   ]
  },
  {
   "cell_type": "markdown",
   "metadata": {},
   "source": [
    "## Em resumo, o modelo de árvore de decisão foi excelente para fazer a classificação do conjunto de dados"
   ]
  }
 ],
 "metadata": {
  "colab": {
   "authorship_tag": "ABX9TyNuy9RiyFO40YxgdIs9A/Pm",
   "name": "árevore_de_decisão_1.ipynb",
   "provenance": []
  },
  "kernelspec": {
   "display_name": "Python 3 (ipykernel)",
   "language": "python",
   "name": "python3"
  },
  "language_info": {
   "codemirror_mode": {
    "name": "ipython",
    "version": 3
   },
   "file_extension": ".py",
   "mimetype": "text/x-python",
   "name": "python",
   "nbconvert_exporter": "python",
   "pygments_lexer": "ipython3",
   "version": "3.9.5"
  }
 },
 "nbformat": 4,
 "nbformat_minor": 1
}
